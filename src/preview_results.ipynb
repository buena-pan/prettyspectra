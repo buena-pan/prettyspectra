{
 "cells": [
  {
   "cell_type": "code",
   "execution_count": 43,
   "metadata": {},
   "outputs": [],
   "source": [
    "import numpy as np\n",
    "import matplotlib.pyplot as plt\n",
    "import utils as u\n",
    "import os"
   ]
  },
  {
   "cell_type": "code",
   "execution_count": 59,
   "metadata": {},
   "outputs": [],
   "source": [
    "## Files\n",
    "ref_filename = \"../resources/TDM_progressive/StrategyFixtureRandomUniform_progressive_channels_StrategyOptimized4_results.json\"\n",
    "test_filename = \"../resources/TDM_progressive/StrategyFixtureRandomUniform_progressive_channels_StrategyOptimized6_results.json\"\n",
    "metrics_filename = \"../resources/TDM_progressive/StrategyFixtureRandomUniform_progressive_channels_cmp-metrics.json\"\n",
    "\n",
    "#ref_filename = \"../resources/FDM_progressive/StrategyFixtureRandom_progressive_channels_FDM_StrategyOptimized3_results.json\"\n",
    "#test_filename = \"../resources/FDM_progressive/StrategyFixtureRandom_progressive_channels_FDM_StrategyOptimized6_results.json\"\n",
    "#metrics_filename = \"../resources/FDM_progressive/StrategyFixtureRandom_progressive_channels_FDM_cmp-metrics.json\"\n",
    "\n",
    "#ref_filename = \"../resources/un_gustito/StrategyFullRandomNormal_QC_n_WF_StrategyOptimized4_results.json\"\n",
    "#test_filename = \"../resources/un_gustito/StrategyFullRandomNormal_QC_n_WF_StrategyOptimized6_results.json\"\n",
    "#metrics_filename = \"../resources/un_gustito/StrategyFullRandomNormal_QC_n_WF_cmp-metrics.json\"\n",
    "\n",
    "json_path_ref = os.path.abspath(ref_filename)\n",
    "json_path_test = os.path.abspath(test_filename)\n",
    "json_path_metrics = os.path.abspath(metrics_filename)"
   ]
  },
  {
   "cell_type": "code",
   "execution_count": 60,
   "metadata": {},
   "outputs": [],
   "source": [
    "json_result_ref = u.load_json_file(ref_filename)\n",
    "json_result_test = u.load_json_file(test_filename)\n",
    "json_result_metrics = u.load_json_file(metrics_filename)\n",
    "\n",
    "spectras_ref = u.from_json_result_to_flatten_dict(json_result_ref)\n",
    "spectras_test = u.from_json_result_to_flatten_dict(json_result_test)"
   ]
  },
  {
   "cell_type": "code",
   "execution_count": 68,
   "metadata": {},
   "outputs": [
    {
     "name": "stdout",
     "output_type": "stream",
     "text": [
      "amount of matches = 960\n",
      "0.009052924162641793\n",
      "0.002031460713124357\n",
      "0.0025938698356928968\n"
     ]
    },
    {
     "ename": "",
     "evalue": "",
     "output_type": "error",
     "traceback": [
      "\u001b[1;31mThe Kernel crashed while executing code in the current cell or a previous cell. \n",
      "\u001b[1;31mPlease review the code in the cell(s) to identify a possible cause of the failure. \n",
      "\u001b[1;31mClick <a href='https://aka.ms/vscodeJupyterKernelCrash'>here</a> for more info. \n",
      "\u001b[1;31mView Jupyter <a href='command:jupyter.viewOutput'>log</a> for further details."
     ]
    }
   ],
   "source": [
    "counter = 0\n",
    "metrics = np.array([])\n",
    "for key in spectras_ref:\n",
    "    do_plot = False\n",
    "    if \"i\" in key and \"p\" in key and not \"w03\" in key:\n",
    "        key_splited = key.replace(\"A\",\"\").replace(\"B\",\"\").split(\"-\")\n",
    "        ref = np.abs(spectras_ref[key])**2\n",
    "        tst = np.abs(spectras_test[key])**2\n",
    "        ratio = np.mean(ref)/np.mean(tst)\n",
    "        tst = tst*ratio\n",
    "        nmse=np.sum((ref-tst)**2)/(np.var(ref)*len(ref))\n",
    "        mape=np.sum(np.divide(np.abs(ref-tst),ref))/len(ref)\n",
    "        metrics = np.append(metrics,mape)\n",
    "        this_label = \"{}\\nNMSE: {}, MAPE: {}\".format(key,nmse,mape)\n",
    "        if nmse > 1 and mape>0.001:\n",
    "            do_plot = True\n",
    "        if do_plot:\n",
    "            plt.figure()\n",
    "            plt.title(this_label)\n",
    "            plt.plot(np.abs(ref),label = \"ref-scaled\")\n",
    "            plt.plot(np.abs(tst),label = \"test-scaled\")\n",
    "            plt.legend()\n",
    "            plt.grid()\n",
    "            plt.show()\n",
    "\n",
    "        \n",
    "\n",
    "        counter+=1\n",
    "print(\"amount of matches = {}\".format(counter))\n",
    "print(np.max(metrics))\n",
    "print(np.mean(metrics))\n",
    "print(np.std(metrics))"
   ]
  }
 ],
 "metadata": {
  "kernelspec": {
   "display_name": "Python 3",
   "language": "python",
   "name": "python3"
  },
  "language_info": {
   "codemirror_mode": {
    "name": "ipython",
    "version": 3
   },
   "file_extension": ".py",
   "mimetype": "text/x-python",
   "name": "python",
   "nbconvert_exporter": "python",
   "pygments_lexer": "ipython3",
   "version": "3.11.9"
  }
 },
 "nbformat": 4,
 "nbformat_minor": 2
}
